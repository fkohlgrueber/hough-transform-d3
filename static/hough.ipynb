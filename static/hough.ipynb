{
 "cells": [
  {
   "cell_type": "markdown",
   "metadata": {},
   "source": [
    "# Hough Transform"
   ]
  },
  {
   "cell_type": "code",
   "execution_count": 6,
   "metadata": {},
   "outputs": [],
   "source": [
    "from PIL import Image\n",
    "import numpy as np"
   ]
  },
  {
   "cell_type": "code",
   "execution_count": 7,
   "metadata": {},
   "outputs": [],
   "source": [
    "im = Image.open(\"hough-edges.jpg\")"
   ]
  },
  {
   "cell_type": "code",
   "execution_count": 8,
   "metadata": {},
   "outputs": [],
   "source": [
    "len_x, len_y = im.size\n",
    "\n",
    "data = im.getdata()\n",
    "\n",
    "edge_pixels = []\n",
    "\n",
    "for y in range(len_y):\n",
    "    for x in range(len_x):\n",
    "        if data[y*len_x+x][0] > 100:\n",
    "            edge_pixels.append([x, y])"
   ]
  },
  {
   "cell_type": "code",
   "execution_count": 9,
   "metadata": {},
   "outputs": [
    {
     "data": {
      "text/plain": [
       "501"
      ]
     },
     "execution_count": 9,
     "metadata": {},
     "output_type": "execute_result"
    }
   ],
   "source": [
    "len(edge_pixels)"
   ]
  },
  {
   "cell_type": "code",
   "execution_count": 13,
   "metadata": {},
   "outputs": [
    {
     "name": "stdout",
     "output_type": "stream",
     "text": [
      "[[5, 22], [6, 23], [8, 25], [9, 26], [10, 27], [11, 28], [12, 29], [81, 29], [13, 30], [82, 30], [127, 30], [14, 31], [83, 31], [15, 32], [84, 33], [130, 33], [67, 34], [85, 34], [114, 34], [18, 35], [68, 35], [86, 35], [112, 35], [115, 35], [19, 36], [69, 36], [87, 36], [111, 36], [112, 36], [116, 36], [117, 36], [20, 37], [70, 37], [88, 37], [111, 37], [118, 37], [119, 37], [21, 38], [89, 38], [110, 38], [119, 38], [120, 38], [22, 39], [90, 39], [109, 39], [110, 39], [121, 39], [122, 39], [23, 40], [91, 40], [109, 40], [122, 40], [123, 40], [24, 41], [92, 41], [108, 41], [124, 41], [139, 41], [25, 42], [26, 42], [76, 42], [107, 42], [125, 42], [126, 42], [26, 43], [27, 43], [94, 43], [107, 43], [127, 43], [27, 44], [28, 44], [95, 44], [106, 44], [128, 44], [28, 45], [29, 45], [96, 45], [105, 45], [130, 45], [29, 46], [30, 46], [97, 46], [104, 46], [105, 46], [131, 46], [132, 46], [30, 47], [31, 47], [98, 47], [104, 47], [133, 47], [31, 48], [32, 48], [99, 48], [103, 48], [134, 48], [135, 48], [32, 49], [100, 49], [102, 49], [103, 49], [136, 49], [33, 50], [102, 50], [137, 50], [138, 50], [34, 51], [101, 51], [139, 51], [140, 51], [35, 52], [100, 52], [140, 52], [141, 52], [142, 52], [36, 53], [100, 53], [142, 53], [143, 53], [144, 53], [37, 54], [99, 54], [144, 54], [145, 54], [98, 55], [146, 55], [147, 55], [39, 56], [97, 56], [98, 56], [147, 56], [148, 56], [149, 56], [40, 57], [97, 57], [149, 57], [150, 57], [151, 57], [41, 58], [96, 58], [151, 58], [152, 58], [153, 58], [42, 59], [95, 59], [153, 59], [154, 59], [155, 59], [43, 60], [95, 60], [155, 60], [156, 60], [44, 61], [94, 61], [157, 61], [45, 62], [93, 62], [157, 62], [158, 62], [46, 63], [92, 63], [93, 63], [157, 63], [47, 64], [74, 64], [75, 64], [92, 64], [156, 64], [157, 64], [48, 65], [75, 65], [76, 65], [91, 65], [156, 65], [49, 66], [76, 66], [90, 66], [91, 66], [155, 66], [156, 66], [50, 67], [51, 67], [90, 67], [154, 67], [155, 67], [51, 68], [89, 68], [154, 68], [52, 69], [88, 69], [153, 69], [154, 69], [53, 70], [80, 70], [88, 70], [153, 70], [54, 71], [81, 71], [87, 71], [152, 71], [153, 71], [55, 72], [78, 72], [82, 72], [86, 72], [151, 72], [152, 72], [83, 73], [86, 73], [151, 73], [85, 74], [150, 74], [80, 75], [81, 75], [84, 75], [149, 75], [150, 75], [81, 76], [83, 76], [84, 76], [149, 76], [83, 77], [148, 77], [61, 78], [82, 78], [147, 78], [148, 78], [62, 79], [81, 79], [147, 79], [81, 80], [146, 80], [64, 81], [80, 81], [146, 81], [65, 82], [79, 82], [145, 82], [66, 83], [79, 83], [144, 83], [145, 83], [67, 84], [78, 84], [144, 84], [77, 85], [143, 85], [76, 86], [77, 86], [143, 86], [76, 87], [142, 87], [72, 88], [75, 88], [141, 88], [72, 89], [74, 89], [75, 89], [140, 89], [141, 89], [74, 90], [140, 90], [73, 91], [139, 91], [140, 91], [72, 92], [73, 92], [138, 92], [139, 92], [72, 93], [138, 93], [71, 94], [137, 94], [70, 95], [137, 95], [69, 96], [70, 96], [136, 96], [69, 97], [135, 97], [136, 97], [68, 98], [135, 98], [67, 99], [68, 99], [134, 99], [67, 100], [133, 100], [134, 100], [66, 101], [133, 101], [65, 102], [132, 102], [133, 102], [135, 102], [136, 102], [64, 103], [65, 103], [131, 103], [132, 103], [136, 103], [64, 104], [131, 104], [137, 104], [63, 105], [130, 105], [131, 105], [138, 105], [62, 106], [63, 106], [130, 106], [139, 106], [62, 107], [129, 107], [139, 107], [61, 108], [128, 108], [129, 108], [60, 109], [61, 109], [128, 109], [59, 110], [60, 110], [127, 110], [59, 111], [126, 111], [58, 112], [59, 112], [126, 112], [57, 113], [58, 113], [125, 113], [57, 114], [124, 114], [125, 114], [56, 115], [124, 115], [55, 116], [56, 116], [123, 116], [55, 117], [123, 117], [54, 118], [122, 118], [127, 118], [53, 119], [54, 119], [121, 119], [123, 119], [124, 119], [52, 120], [53, 120], [121, 120], [125, 120], [52, 121], [120, 121], [126, 121], [51, 122], [52, 122], [119, 122], [127, 122], [50, 123], [51, 123], [119, 123], [128, 123], [166, 123], [50, 124], [118, 124], [129, 124], [167, 124], [49, 125], [117, 125], [118, 125], [48, 126], [49, 126], [117, 126], [47, 127], [48, 127], [116, 127], [47, 128], [115, 128], [116, 128], [47, 129], [48, 129], [115, 129], [48, 130], [49, 130], [50, 130], [114, 130], [115, 130], [50, 131], [51, 131], [52, 131], [114, 131], [173, 131], [52, 132], [53, 132], [113, 132], [53, 133], [54, 133], [55, 133], [112, 133], [113, 133], [139, 133], [55, 134], [56, 134], [112, 134], [56, 135], [57, 135], [58, 135], [111, 135], [58, 136], [59, 136], [110, 136], [111, 136], [142, 136], [60, 137], [61, 137], [109, 137], [110, 137], [61, 138], [62, 138], [63, 138], [109, 138], [63, 139], [64, 139], [108, 139], [65, 140], [66, 140], [108, 140], [66, 141], [67, 141], [107, 141], [68, 142], [69, 142], [106, 142], [107, 142], [69, 143], [70, 143], [106, 143], [71, 144], [72, 144], [105, 144], [106, 144], [2, 145], [3, 145], [72, 145], [73, 145], [105, 145], [3, 146], [4, 146], [74, 146], [75, 146], [104, 146], [4, 147], [76, 147], [77, 147], [104, 147], [5, 148], [77, 148], [78, 148], [103, 148], [5, 149], [6, 149], [79, 149], [80, 149], [102, 149], [103, 149], [6, 150], [80, 150], [81, 150], [101, 150], [102, 150], [82, 151], [83, 151], [101, 151], [83, 152], [84, 152], [100, 152], [85, 153], [86, 153], [99, 153], [100, 153], [86, 154], [87, 154], [99, 154], [88, 155], [89, 155], [98, 155], [89, 156], [90, 156], [98, 156], [91, 157], [92, 157], [97, 157], [92, 158], [93, 158], [94, 159], [95, 159], [169, 160], [177, 167]]\n"
     ]
    }
   ],
   "source": [
    "print(edge_pixels)"
   ]
  },
  {
   "cell_type": "code",
   "execution_count": 10,
   "metadata": {},
   "outputs": [],
   "source": [
    "theta = np.arange(0, 360)\n",
    "accu = np.zeros((360, 360))\n",
    "min_v = float(\"inf\")\n",
    "max_v = -float(\"inf\")\n",
    "for x, y in edge_pixels:\n",
    "    line = x * np.cos(theta/360*2*np.pi) + y * np.sin(theta/360*2*np.pi)\n",
    "    #print(line)\n",
    "    for i in range(len(line)):\n",
    "        accu[int((line[i]+300)/2)][i] += 1\n",
    "    min_v = min(min_v, min(line))\n",
    "    max_v = max(max_v, max(line))"
   ]
  },
  {
   "cell_type": "code",
   "execution_count": 11,
   "metadata": {},
   "outputs": [
    {
     "data": {
      "text/plain": [
       "(-243.34333131703045, 243.34333131703042)"
      ]
     },
     "execution_count": 11,
     "metadata": {},
     "output_type": "execute_result"
    }
   ],
   "source": [
    "min_v, max_v"
   ]
  },
  {
   "cell_type": "code",
   "execution_count": 12,
   "metadata": {},
   "outputs": [
    {
     "data": {
      "image/png": "[encoded data removed]",
      "text/plain": [
       "<PIL.Image.Image image mode=L size=360x360 at 0x25FCC1FABA8>"
      ]
     },
     "execution_count": 12,
     "metadata": {},
     "output_type": "execute_result"
    }
   ],
   "source": [
    "# accu = np.log(accu+1)\n",
    "\n",
    "accu /= np.max(accu) / 255\n",
    "\n",
    "im_out = Image.fromarray(255 - np.uint8(accu))\n",
    "\n",
    "# im_out.save(\"hough-out.jpg\")\n",
    "im_out"
   ]
  }
 ],
 "metadata": {
  "kernelspec": {
   "display_name": "Python 3",
   "language": "python",
   "name": "python3"
  },
  "language_info": {
   "codemirror_mode": {
    "name": "ipython",
    "version": 3
   },
   "file_extension": ".py",
   "mimetype": "text/x-python",
   "name": "python",
   "nbconvert_exporter": "python",
   "pygments_lexer": "ipython3",
   "version": "3.6.5"
  }
 },
 "nbformat": 4,
 "nbformat_minor": 2
}
